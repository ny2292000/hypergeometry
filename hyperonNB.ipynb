{
 "cells": [
  {
   "cell_type": "code",
   "execution_count": 2,
   "metadata": {
    "collapsed": false
   },
   "outputs": [],
   "source": [
    "#!/usr/bin/env python\n",
    "\"\"\"\n",
    "An animated image\n",
    "\"\"\"\n",
    "import numpy as np\n",
    "import matplotlib.pyplot as plt\n",
    "import matplotlib.animation as animation\n",
    "\n",
    "fig = plt.figure()\n",
    "\n",
    "\n",
    "def f(x, y):\n",
    "    return np.sin(x) + np.cos(y)\n",
    "\n",
    "x = np.linspace(0, 2 * np.pi, 120)\n",
    "y = np.linspace(0, 2 * np.pi, 100).reshape(-1, 1)\n",
    "\n",
    "im = plt.imshow(f(x, y), cmap=plt.get_cmap('viridis'), animated=True)\n",
    "\n",
    "\n",
    "def updatefig(*args):\n",
    "    global x, y\n",
    "    x += np.pi / 15.\n",
    "    y += np.pi / 20.\n",
    "    im.set_array(f(x, y))\n",
    "    return im,\n",
    "\n",
    "ani = animation.FuncAnimation(fig, updatefig, interval=50, blit=False)\n",
    "plt.show()"
   ]
  },
  {
   "cell_type": "code",
   "execution_count": 3,
   "metadata": {
    "collapsed": false
   },
   "outputs": [],
   "source": [
    "import numpy as np\n",
    "import matplotlib.pyplot as plt\n",
    "import matplotlib.animation as animation\n",
    "\n",
    "\n",
    "def data_gen(t=0):\n",
    "    cnt = 0\n",
    "    while cnt < 1000:\n",
    "        cnt += 1\n",
    "        t += 0.1\n",
    "        yield t, np.sin(2*np.pi*t) * np.exp(-t/10.)\n",
    "\n",
    "\n",
    "def init():\n",
    "    ax.set_ylim(-1.1, 1.1)\n",
    "    ax.set_xlim(0, 10)\n",
    "    del xdata[:]\n",
    "    del ydata[:]\n",
    "    line.set_data(xdata, ydata)\n",
    "    return line,\n",
    "\n",
    "fig, ax = plt.subplots()\n",
    "line, = ax.plot([], [], lw=2)\n",
    "ax.grid()\n",
    "xdata, ydata = [], []\n",
    "\n",
    "\n",
    "def run(data):\n",
    "    # update the data\n",
    "    t, y = data\n",
    "    xdata.append(t)\n",
    "    ydata.append(y)\n",
    "    xmin, xmax = ax.get_xlim()\n",
    "\n",
    "    if t >= xmax:\n",
    "        ax.set_xlim(xmin, 2*xmax)\n",
    "        ax.figure.canvas.draw()\n",
    "    line.set_data(xdata, ydata)\n",
    "\n",
    "    return line,\n",
    "\n",
    "ani = animation.FuncAnimation(fig, run, data_gen, blit=False, interval=10,\n",
    "                              repeat=False, init_func=init)\n",
    "plt.show()"
   ]
  },
  {
   "cell_type": "code",
   "execution_count": 4,
   "metadata": {
    "collapsed": true
   },
   "outputs": [],
   "source": [
    "# -*- coding: utf-8 -*-\n",
    "from mpl_toolkits.mplot3d import Axes3D\n",
    "import matplotlib.pyplot as plt\n",
    "import numpy as np\n",
    "from itertools import product, combinations\n",
    "fig = plt.figure()\n",
    "ax = fig.gca(projection='3d')\n",
    "ax.set_aspect(\"equal\")\n",
    "\n",
    "#draw cube\n",
    "r = [-1, 1]\n",
    "for s, e in combinations(np.array(list(product(r,r,r))), 2):\n",
    "    if np.sum(np.abs(s-e)) == r[1]-r[0]:\n",
    "        ax.plot3D(*zip(s,e), color=\"b\")\n",
    "\n",
    "#draw sphere\n",
    "u, v = np.mgrid[0:2*np.pi:20j, 0:np.pi:10j]\n",
    "x=np.cos(u)*np.sin(v)\n",
    "y=np.sin(u)*np.sin(v)\n",
    "z=np.cos(v)\n",
    "ax.plot_wireframe(x, y, z, color=\"r\")\n",
    "\n",
    "#draw a point\n",
    "ax.scatter([0],[0],[0],color=\"g\",s=100)\n",
    "\n",
    "#draw a vector\n",
    "from matplotlib.patches import FancyArrowPatch\n",
    "from mpl_toolkits.mplot3d import proj3d\n",
    "\n",
    "class Arrow3D(FancyArrowPatch):\n",
    "    def __init__(self, xs, ys, zs, *args, **kwargs):\n",
    "        FancyArrowPatch.__init__(self, (0,0), (0,0), *args, **kwargs)\n",
    "        self._verts3d = xs, ys, zs\n",
    "\n",
    "    def draw(self, renderer):\n",
    "        xs3d, ys3d, zs3d = self._verts3d\n",
    "        xs, ys, zs = proj3d.proj_transform(xs3d, ys3d, zs3d, renderer.M)\n",
    "        self.set_positions((xs[0],ys[0]),(xs[1],ys[1]))\n",
    "        FancyArrowPatch.draw(self, renderer)\n",
    "\n",
    "a = Arrow3D([0,1],[0,1],[0,1], mutation_scale=20, lw=1, arrowstyle=\"-|>\", color=\"k\")\n",
    "ax.add_artist(a)\n",
    "plt.show()"
   ]
  },
  {
   "cell_type": "code",
   "execution_count": 7,
   "metadata": {
    "collapsed": true
   },
   "outputs": [],
   "source": [
    "fig = plt.figure()\n",
    "ax = fig.gca(projection='3d')\n",
    "ax.set_aspect(\"equal\")\n",
    "\n",
    "#draw sphere\n",
    "u, v = np.mgrid[0:2*np.pi:20j, 0:np.pi:10j]\n",
    "x=np.cos(u)*np.sin(v)\n",
    "y=np.sin(u)*np.sin(v)\n",
    "z=np.cos(v)\n",
    "ax.plot_wireframe(x, y, z, color=\"r\")\n",
    "plt.show()"
   ]
  },
  {
   "cell_type": "code",
   "execution_count": 56,
   "metadata": {
    "collapsed": false
   },
   "outputs": [],
   "source": [
    "from mpl_toolkits.mplot3d import Axes3D\n",
    "import matplotlib.pyplot as plt\n",
    "import numpy as np\n",
    "\n",
    "\n",
    "\n",
    "# Radii corresponding to the coefficients:\n",
    "class dilator(object):\n",
    "    def __init__(self,coeffs):\n",
    "        self.coeffs=coeffs\n",
    "        a=0.759835685652/np.sqrt(3)\n",
    "        print(a)\n",
    "        rx, ry, rz = np.sqrt([(e+1.0)/a for e in coeffs])\n",
    "        print(rx,ry,rz)\n",
    "        print(coeffs)\n",
    "\n",
    "        # Set of all spherical angles:\n",
    "        self.u = np.linspace(0, 2 * np.pi, 100)\n",
    "        self.v = np.linspace(0, np.pi, 100)\n",
    "    def surface(self,shift=0.0):\n",
    "        # Cartesian coordinates that correspond to the spherical angles:\n",
    "        # (this is the equation of an ellipsoid):\n",
    "        u=self.u+shift\n",
    "        v=self.v+shift\n",
    "        x = 1/rx * np.outer(np.cos(u), np.sin(v))\n",
    "        y = 1/ry * np.outer(np.sin(u), np.sin(v))\n",
    "        z = 1/rz * np.outer(np.ones_like(u), np.cos(v))\n",
    "        return x,y,z\n",
    "    def plotMe(self,shift=0):\n",
    "        fig = plt.figure(figsize=plt.figaspect(1))  \n",
    "        # Square figure\n",
    "        ax = fig.add_subplot(111, projection='3d')\n",
    "        # Plot:\n",
    "        x,y,z = self.surface(shift)\n",
    "        ax.plot_surface(x, y, z,  rstride=4, cstride=4, color='b')\n",
    "        # Adjustment of the axes, so that they all have the same span:\n",
    "        max_radius = max(rx, ry, rz)\n",
    "        for axis in 'xyz':\n",
    "            getattr(ax, 'set_{}lim'.format(axis))((-max_radius, max_radius))\n",
    "        plt.show()"
   ]
  },
  {
   "cell_type": "code",
   "execution_count": 57,
   "metadata": {
    "collapsed": false
   },
   "outputs": [
    {
     "name": "stdout",
     "output_type": "stream",
     "text": [
      "0.438691337651\n",
      "1.50980364848 1.50980364848 1.50980364848\n",
      "(0, 0, 0)\n"
     ]
    }
   ],
   "source": [
    "vaccumCoeff = (0, 0, 0)\n",
    "vaccum=dilator(vaccumCoeff)\n",
    "vaccum.plotMe()"
   ]
  },
  {
   "cell_type": "code",
   "execution_count": 52,
   "metadata": {
    "collapsed": false
   },
   "outputs": [
    {
     "name": "stdout",
     "output_type": "stream",
     "text": [
      "0.980943652128 0.980943652128 0.620403239401\n",
      "(0.6666666666666666, 0.6666666666666666, -0.3333333333333333)\n"
     ]
    }
   ],
   "source": [
    "protonCoeff = (2/3, 2/3, -1/3)\n",
    "proton=dilator(protonCoeff)\n",
    "proton.plotMe()"
   ]
  },
  {
   "cell_type": "code",
   "execution_count": 49,
   "metadata": {
    "collapsed": false
   },
   "outputs": [
    {
     "name": "stdout",
     "output_type": "stream",
     "text": [
      "0.759835685652 0.438691337651 0.620403239401\n",
      "(0, -0.6666666666666666, -0.3333333333333333)\n"
     ]
    }
   ],
   "source": [
    "electronCoeff = (0, -2/3, -1/3)\n",
    "electron=dilator(electronCoeff)\n",
    "electron.plotMe(np.pi/4)"
   ]
  },
  {
   "cell_type": "code",
   "execution_count": 58,
   "metadata": {
    "collapsed": false
   },
   "outputs": [
    {
     "name": "stdout",
     "output_type": "stream",
     "text": [
      "1.73205080757\n"
     ]
    }
   ],
   "source": [
    "print(np.sqrt(3))"
   ]
  },
  {
   "cell_type": "code",
   "execution_count": null,
   "metadata": {
    "collapsed": true
   },
   "outputs": [],
   "source": [
    ""
   ]
  }
 ],
 "metadata": {
  "kernelspec": {
   "display_name": "Python 3",
   "language": "python",
   "name": "python3"
  },
  "language_info": {
   "codemirror_mode": {
    "name": "ipython",
    "version": 3.0
   },
   "file_extension": ".py",
   "mimetype": "text/x-python",
   "name": "python",
   "nbconvert_exporter": "python",
   "pygments_lexer": "ipython3",
   "version": "3.5.1"
  }
 },
 "nbformat": 4,
 "nbformat_minor": 0
}