{
 "cells": [
  {
   "cell_type": "code",
   "execution_count": 1,
   "metadata": {},
   "outputs": [],
   "source": [
    "from mpl_toolkits.mplot3d import Axes3D\n",
    "import matplotlib.pyplot as plt\n",
    "import numpy as np\n",
    "from itertools import cycle\n",
    "\n",
    "\n",
    "\n",
    "# ATOM\n",
    "#\n",
    "# Smallest particle of an element which shows all properties of element is called atom.\n",
    "# Some characteristics of \"atoms\" are as follows:\n",
    "# Atom takes part in chemical reactions independently.\n",
    "# Atom can be divided into a number of sub-atomic particles.\n",
    "# Fundamental particles of atom are electron, proton and neutron.\n",
    "# CHARACTERISTICS OF ELECTRON\n",
    "#\n",
    "# Charge: It is a negatively charged particle.\n",
    "# Magnitutide of charge: Charge of electron is 1.6022 x 10-19 Coulomb.\n",
    "# Mass of electron: Mass of electron is 0.000548597 a.m.u. or 9.1 x 10-31 kg.\n",
    "# Symbol of electron: Electron is represented by \"e\".\n",
    "# Location in the atom: Electrons revolve around the nucleus of atom in different circular orbits.\n",
    "# CHARACTERISTICS OF PROTON\n",
    "#\n",
    "# Charge: Proton is a positively charged particle.\n",
    "# Magnitude of charge: Charge of proton is 1.6022 x 10-19 coulomb.\n",
    "# Mass of proton: Mass of proton is 1.0072766 a.m.u. or 1.6726 x 10-27 kg.\n",
    "# Comparative mass: Proton is 1837 times heavier than an electron.\n",
    "# Position in atom: Protons are present in the nucleus of atom.\n",
    "# For latest information , free computer courses and high impact notes visit : www.citycollegiate.com\n",
    "# CHARACTERISTICS OF NEUTRON\n",
    "#\n",
    "# charge: It is a neutral particle because it has no charge.\n",
    "# Mass of neutron: . Mass of neutron is 1.0086654 a.m.u. or 1.6749 x 10-27 kg.\n",
    "# Compartive mass: Neutron is 1842 times heavier than an electron.\n",
    "# Location in the atom: Neutrons are present in the nucleus of an atom.\n",
    "\n",
    "# Proton Charge=-Electron Charge = 1.6022 x 10-19 Coulomb\n",
    "# Proton Mass = 1837 Electron Mass\n",
    "\n",
    "# These are the thicknesses along the radial direction (Fourth Dimensional direction perpendicular to our\n",
    "# 3D Universe (LightSpeed Expanding Hypersperical Universe).\n",
    "# The total 4D volume should be identical.\n",
    "hp=1e-6\n",
    "he=hp*1837\n",
    "\n",
    "protonCoeff = (2 / 3, 2 / 3, -1 / 3,hp)\n",
    "electronCoeff = (0,-2/3,-1/3,he)\n",
    "positronCoeff = (0,2/3,1/3,-he)\n",
    "antiprotonCoeff = (-2 / 3, -2 / 3, 1 / 3,-hp)"
   ]
  },
  {
   "cell_type": "code",
   "execution_count": 3,
   "metadata": {},
   "outputs": [],
   "source": [
    "print(protonCoeff)"
   ]
  },
  {
   "cell_type": "code",
   "execution_count": 1,
   "metadata": {},
   "outputs": [
    {
     "ename": "NameError",
     "evalue": "name 'protonCoeff' is not defined",
     "output_type": "error",
     "traceback": [
      "\u001b[0;31m---------------------------------------------------------------------------\u001b[0m",
      "\u001b[0;31mNameError\u001b[0m                                 Traceback (most recent call last)",
      "\u001b[0;32m<ipython-input-1-c681ce1594a2>\u001b[0m in \u001b[0;36m<module>\u001b[0;34m()\u001b[0m\n\u001b[0;32m----> 1\u001b[0;31m \u001b[0mlst\u001b[0m \u001b[0;34m=\u001b[0m \u001b[0;34m[\u001b[0m\u001b[0mprotonCoeff\u001b[0m\u001b[0;34m,\u001b[0m \u001b[0melectronCoeff\u001b[0m\u001b[0;34m,\u001b[0m\u001b[0mantiprotonCoeff\u001b[0m\u001b[0;34m,\u001b[0m \u001b[0mpositronCoeff\u001b[0m\u001b[0;34m]\u001b[0m\u001b[0;34m\u001b[0m\u001b[0m\n\u001b[0m\u001b[1;32m      2\u001b[0m \u001b[0;34m\u001b[0m\u001b[0m\n\u001b[1;32m      3\u001b[0m \u001b[0mpool\u001b[0m \u001b[0;34m=\u001b[0m \u001b[0mcycle\u001b[0m\u001b[0;34m(\u001b[0m\u001b[0mlst\u001b[0m\u001b[0;34m)\u001b[0m\u001b[0;34m\u001b[0m\u001b[0m\n\u001b[1;32m      4\u001b[0m \u001b[0;34m\u001b[0m\u001b[0m\n\u001b[1;32m      5\u001b[0m \u001b[0;32mfor\u001b[0m \u001b[0mitem\u001b[0m \u001b[0;32min\u001b[0m \u001b[0mpool\u001b[0m\u001b[0;34m:\u001b[0m\u001b[0;34m\u001b[0m\u001b[0m\n",
      "\u001b[0;31mNameError\u001b[0m: name 'protonCoeff' is not defined"
     ]
    }
   ],
   "source": [
    "lst = [protonCoeff, electronCoeff,antiprotonCoeff, positronCoeff]\n",
    "\n",
    "pool = cycle(lst)\n",
    "\n",
    "for item in pool:\n",
    "    print (item,)"
   ]
  },
  {
   "cell_type": "code",
   "execution_count": null,
   "metadata": {},
   "outputs": [],
   "source": [
    "vaccumCoeff = (0, 0, 0)\n",
    "vaccum = dilator(vaccumCoeff)\n",
    "vaccum.plotMe()\n",
    "a=1\n",
    "protonCoeff = (2 / 3, 2 / 3, -1 / 3)\n",
    "proton1 = dilator(protonCoeff)\n",
    "proton1.plotMe()\n",
    "proton2 = dilator(protonCoeff,(0,0,2*np.pi))\n",
    "proton2.plotMe()\n",
    "electronCoeff = (0, -2 / 3, -1 / 3)\n",
    "electron = dilator(electronCoeff)\n",
    "electron.plotMe()\n",
    "a=1\n",
    "electron.plotMe(np.pi/4.0)\n",
    "a=1"
   ]
  },
  {
   "cell_type": "code",
   "execution_count": null,
   "metadata": {},
   "outputs": [],
   "source": [
    "# The actual amplitude of the metric distorsion is not know. Considering that it is very, very small\n",
    "# the metric displacement will be approximated by the sum of the 3D coefficients times the radial thickness\n",
    "# hp is unknown\n",
    "\n",
    "# Radii corresponding to the coefficients:\n",
    "class unit(object):\n",
    "    def __init__(self,coeffs,center=(0,0,0)):\n",
    "        self.coeffs=coeffs\n",
    "        self.center=center\n",
    "        a=1\n",
    "        print(a)\n",
    "        self.rx, self.ry, self.rz = [(e+1.0)/a for e in coeffs]\n",
    "        print(self.rx,self.ry,self.rz)\n",
    "        print(coeffs)\n",
    "\n",
    "        # Set of all spherical angles:\n",
    "        self.u = np.linspace(0, 2 * np.pi, 100)\n",
    "        self.v = np.linspace(0, np.pi, 100)\n",
    "    def surface(self,center=(0,0,0)):\n",
    "        # Cartesian coordinates that correspond to the spherical angles:\n",
    "        # (this is the equation of an ellipsoid):\n",
    "        u=self.u\n",
    "        v=self.v\n",
    "        x = self.rx * np.outer(np.cos(u), np.sin(v))+self.center[0]\n",
    "        y = self.ry * np.outer(np.sin(u), np.sin(v))+self.center[1]\n",
    "        z = self.rz * np.outer(np.ones_like(u), np.cos(v))+self.center[2]\n",
    "        return x,y,z\n",
    "    def plotMe(self):\n",
    "        fig = plt.figure(figsize=plt.figaspect(1))\n",
    "        # Square figure\n",
    "        ax = fig.add_subplot(111, projection='3d')\n",
    "        # Plot:\n",
    "        x,y,z = self.surface()\n",
    "        ax.plot_surface(x, y, z,  rstride=4, cstride=4, color='b')\n",
    "        # Adjustment of the axes, so that they all have the same span:\n",
    "        max_radius = max(self.rx, self.ry, self.rz)\n",
    "        max_radius = max(max_radius,self.center[0], self.center[1], self.center[2])\n",
    "        for axis in 'xyz':\n",
    "            getattr(ax, 'set_{}lim'.format(axis))((-max_radius, max_radius))\n",
    "        plt.show()"
   ]
  }
 ],
 "metadata": {
  "kernelspec": {
   "display_name": "Python 3",
   "language": "python",
   "name": "python3"
  },
  "language_info": {
   "codemirror_mode": {
    "name": "ipython",
    "version": 3.0
   },
   "file_extension": ".py",
   "mimetype": "text/x-python",
   "name": "python",
   "nbconvert_exporter": "python",
   "pygments_lexer": "ipython3",
   "version": "3.5.1"
  }
 },
 "nbformat": 4,
 "nbformat_minor": 0
}